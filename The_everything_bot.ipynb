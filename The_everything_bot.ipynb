{
  "nbformat": 4,
  "nbformat_minor": 0,
  "metadata": {
    "colab": {
      "provenance": [],
      "authorship_tag": "ABX9TyO433wk7z6ozxBCSoWryIkZ",
      "include_colab_link": true
    },
    "kernelspec": {
      "name": "python3",
      "display_name": "Python 3"
    },
    "language_info": {
      "name": "python"
    }
  },
  "cells": [
    {
      "cell_type": "markdown",
      "metadata": {
        "id": "view-in-github",
        "colab_type": "text"
      },
      "source": [
        "<a href=\"https://colab.research.google.com/github/SanaSharma08/The_everything_bot_industry_hackathon/blob/main/The_everything_bot.ipynb\" target=\"_parent\"><img src=\"https://colab.research.google.com/assets/colab-badge.svg\" alt=\"Open In Colab\"/></a>"
      ]
    },
    {
      "cell_type": "code",
      "source": [
        "pip install neuralintents"
      ],
      "metadata": {
        "colab": {
          "base_uri": "https://localhost:8080/"
        },
        "id": "EBgT03H-M6Fv",
        "outputId": "67d01e34-ff76-477f-85f4-c939d5408147"
      },
      "execution_count": 1,
      "outputs": [
        {
          "output_type": "stream",
          "name": "stdout",
          "text": [
            "Collecting neuralintents\n",
            "  Downloading neuralintents-0.1.0-py3-none-any.whl (6.6 kB)\n",
            "Requirement already satisfied: numpy in /usr/local/lib/python3.10/dist-packages (from neuralintents) (1.23.5)\n",
            "Requirement already satisfied: nltk in /usr/local/lib/python3.10/dist-packages (from neuralintents) (3.8.1)\n",
            "Requirement already satisfied: tensorflow in /usr/local/lib/python3.10/dist-packages (from neuralintents) (2.15.0)\n",
            "Requirement already satisfied: click in /usr/local/lib/python3.10/dist-packages (from nltk->neuralintents) (8.1.7)\n",
            "Requirement already satisfied: joblib in /usr/local/lib/python3.10/dist-packages (from nltk->neuralintents) (1.3.2)\n",
            "Requirement already satisfied: regex>=2021.8.3 in /usr/local/lib/python3.10/dist-packages (from nltk->neuralintents) (2023.6.3)\n",
            "Requirement already satisfied: tqdm in /usr/local/lib/python3.10/dist-packages (from nltk->neuralintents) (4.66.1)\n",
            "Requirement already satisfied: absl-py>=1.0.0 in /usr/local/lib/python3.10/dist-packages (from tensorflow->neuralintents) (1.4.0)\n",
            "Requirement already satisfied: astunparse>=1.6.0 in /usr/local/lib/python3.10/dist-packages (from tensorflow->neuralintents) (1.6.3)\n",
            "Requirement already satisfied: flatbuffers>=23.5.26 in /usr/local/lib/python3.10/dist-packages (from tensorflow->neuralintents) (23.5.26)\n",
            "Requirement already satisfied: gast!=0.5.0,!=0.5.1,!=0.5.2,>=0.2.1 in /usr/local/lib/python3.10/dist-packages (from tensorflow->neuralintents) (0.5.4)\n",
            "Requirement already satisfied: google-pasta>=0.1.1 in /usr/local/lib/python3.10/dist-packages (from tensorflow->neuralintents) (0.2.0)\n",
            "Requirement already satisfied: h5py>=2.9.0 in /usr/local/lib/python3.10/dist-packages (from tensorflow->neuralintents) (3.9.0)\n",
            "Requirement already satisfied: libclang>=13.0.0 in /usr/local/lib/python3.10/dist-packages (from tensorflow->neuralintents) (16.0.6)\n",
            "Requirement already satisfied: ml-dtypes~=0.2.0 in /usr/local/lib/python3.10/dist-packages (from tensorflow->neuralintents) (0.2.0)\n",
            "Requirement already satisfied: opt-einsum>=2.3.2 in /usr/local/lib/python3.10/dist-packages (from tensorflow->neuralintents) (3.3.0)\n",
            "Requirement already satisfied: packaging in /usr/local/lib/python3.10/dist-packages (from tensorflow->neuralintents) (23.2)\n",
            "Requirement already satisfied: protobuf!=4.21.0,!=4.21.1,!=4.21.2,!=4.21.3,!=4.21.4,!=4.21.5,<5.0.0dev,>=3.20.3 in /usr/local/lib/python3.10/dist-packages (from tensorflow->neuralintents) (3.20.3)\n",
            "Requirement already satisfied: setuptools in /usr/local/lib/python3.10/dist-packages (from tensorflow->neuralintents) (67.7.2)\n",
            "Requirement already satisfied: six>=1.12.0 in /usr/local/lib/python3.10/dist-packages (from tensorflow->neuralintents) (1.16.0)\n",
            "Requirement already satisfied: termcolor>=1.1.0 in /usr/local/lib/python3.10/dist-packages (from tensorflow->neuralintents) (2.4.0)\n",
            "Requirement already satisfied: typing-extensions>=3.6.6 in /usr/local/lib/python3.10/dist-packages (from tensorflow->neuralintents) (4.5.0)\n",
            "Requirement already satisfied: wrapt<1.15,>=1.11.0 in /usr/local/lib/python3.10/dist-packages (from tensorflow->neuralintents) (1.14.1)\n",
            "Requirement already satisfied: tensorflow-io-gcs-filesystem>=0.23.1 in /usr/local/lib/python3.10/dist-packages (from tensorflow->neuralintents) (0.35.0)\n",
            "Requirement already satisfied: grpcio<2.0,>=1.24.3 in /usr/local/lib/python3.10/dist-packages (from tensorflow->neuralintents) (1.60.0)\n",
            "Requirement already satisfied: tensorboard<2.16,>=2.15 in /usr/local/lib/python3.10/dist-packages (from tensorflow->neuralintents) (2.15.1)\n",
            "Requirement already satisfied: tensorflow-estimator<2.16,>=2.15.0 in /usr/local/lib/python3.10/dist-packages (from tensorflow->neuralintents) (2.15.0)\n",
            "Requirement already satisfied: keras<2.16,>=2.15.0 in /usr/local/lib/python3.10/dist-packages (from tensorflow->neuralintents) (2.15.0)\n",
            "Requirement already satisfied: wheel<1.0,>=0.23.0 in /usr/local/lib/python3.10/dist-packages (from astunparse>=1.6.0->tensorflow->neuralintents) (0.42.0)\n",
            "Requirement already satisfied: google-auth<3,>=1.6.3 in /usr/local/lib/python3.10/dist-packages (from tensorboard<2.16,>=2.15->tensorflow->neuralintents) (2.17.3)\n",
            "Requirement already satisfied: google-auth-oauthlib<2,>=0.5 in /usr/local/lib/python3.10/dist-packages (from tensorboard<2.16,>=2.15->tensorflow->neuralintents) (1.2.0)\n",
            "Requirement already satisfied: markdown>=2.6.8 in /usr/local/lib/python3.10/dist-packages (from tensorboard<2.16,>=2.15->tensorflow->neuralintents) (3.5.2)\n",
            "Requirement already satisfied: requests<3,>=2.21.0 in /usr/local/lib/python3.10/dist-packages (from tensorboard<2.16,>=2.15->tensorflow->neuralintents) (2.31.0)\n",
            "Requirement already satisfied: tensorboard-data-server<0.8.0,>=0.7.0 in /usr/local/lib/python3.10/dist-packages (from tensorboard<2.16,>=2.15->tensorflow->neuralintents) (0.7.2)\n",
            "Requirement already satisfied: werkzeug>=1.0.1 in /usr/local/lib/python3.10/dist-packages (from tensorboard<2.16,>=2.15->tensorflow->neuralintents) (3.0.1)\n",
            "Requirement already satisfied: cachetools<6.0,>=2.0.0 in /usr/local/lib/python3.10/dist-packages (from google-auth<3,>=1.6.3->tensorboard<2.16,>=2.15->tensorflow->neuralintents) (5.3.2)\n",
            "Requirement already satisfied: pyasn1-modules>=0.2.1 in /usr/local/lib/python3.10/dist-packages (from google-auth<3,>=1.6.3->tensorboard<2.16,>=2.15->tensorflow->neuralintents) (0.3.0)\n",
            "Requirement already satisfied: rsa<5,>=3.1.4 in /usr/local/lib/python3.10/dist-packages (from google-auth<3,>=1.6.3->tensorboard<2.16,>=2.15->tensorflow->neuralintents) (4.9)\n",
            "Requirement already satisfied: requests-oauthlib>=0.7.0 in /usr/local/lib/python3.10/dist-packages (from google-auth-oauthlib<2,>=0.5->tensorboard<2.16,>=2.15->tensorflow->neuralintents) (1.3.1)\n",
            "Requirement already satisfied: charset-normalizer<4,>=2 in /usr/local/lib/python3.10/dist-packages (from requests<3,>=2.21.0->tensorboard<2.16,>=2.15->tensorflow->neuralintents) (3.3.2)\n",
            "Requirement already satisfied: idna<4,>=2.5 in /usr/local/lib/python3.10/dist-packages (from requests<3,>=2.21.0->tensorboard<2.16,>=2.15->tensorflow->neuralintents) (3.6)\n",
            "Requirement already satisfied: urllib3<3,>=1.21.1 in /usr/local/lib/python3.10/dist-packages (from requests<3,>=2.21.0->tensorboard<2.16,>=2.15->tensorflow->neuralintents) (2.0.7)\n",
            "Requirement already satisfied: certifi>=2017.4.17 in /usr/local/lib/python3.10/dist-packages (from requests<3,>=2.21.0->tensorboard<2.16,>=2.15->tensorflow->neuralintents) (2023.11.17)\n",
            "Requirement already satisfied: MarkupSafe>=2.1.1 in /usr/local/lib/python3.10/dist-packages (from werkzeug>=1.0.1->tensorboard<2.16,>=2.15->tensorflow->neuralintents) (2.1.3)\n",
            "Requirement already satisfied: pyasn1<0.6.0,>=0.4.6 in /usr/local/lib/python3.10/dist-packages (from pyasn1-modules>=0.2.1->google-auth<3,>=1.6.3->tensorboard<2.16,>=2.15->tensorflow->neuralintents) (0.5.1)\n",
            "Requirement already satisfied: oauthlib>=3.0.0 in /usr/local/lib/python3.10/dist-packages (from requests-oauthlib>=0.7.0->google-auth-oauthlib<2,>=0.5->tensorboard<2.16,>=2.15->tensorflow->neuralintents) (3.2.2)\n",
            "Installing collected packages: neuralintents\n",
            "Successfully installed neuralintents-0.1.0\n"
          ]
        }
      ]
    },
    {
      "cell_type": "code",
      "source": [],
      "metadata": {
        "id": "So29Mc5XM58W"
      },
      "execution_count": null,
      "outputs": []
    },
    {
      "cell_type": "code",
      "source": [],
      "metadata": {
        "id": "ETUnEelxM5qJ"
      },
      "execution_count": null,
      "outputs": []
    },
    {
      "cell_type": "code",
      "execution_count": 2,
      "metadata": {
        "colab": {
          "base_uri": "https://localhost:8080/",
          "height": 1000
        },
        "id": "DU9hlXS2GdIn",
        "outputId": "079e654a-be3a-4355-d4ac-e21ded4bdaa0"
      },
      "outputs": [
        {
          "output_type": "stream",
          "name": "stderr",
          "text": [
            "<ipython-input-2-08e66d3831b6>:34: DeprecationWarning: The 'GenericAssistant' class is deprecated and will be removed in future versions. Please use 'BasicAssistant' instead.\n",
            "  assistant= GenericAssistant(\"Intent.json\", mappings)\n"
          ]
        },
        {
          "output_type": "stream",
          "name": "stdout",
          "text": [
            "Epoch 1/50\n",
            "29/29 [==============================] - 1s 3ms/step - loss: 3.0740 - accuracy: 0.1206\n",
            "Epoch 2/50\n",
            "29/29 [==============================] - 0s 3ms/step - loss: 2.5113 - accuracy: 0.2837\n",
            "Epoch 3/50\n",
            "29/29 [==============================] - 0s 2ms/step - loss: 2.0954 - accuracy: 0.4043\n",
            "Epoch 4/50\n",
            "29/29 [==============================] - 0s 3ms/step - loss: 1.5061 - accuracy: 0.5319\n",
            "Epoch 5/50\n",
            "29/29 [==============================] - 0s 3ms/step - loss: 1.3045 - accuracy: 0.5816\n",
            "Epoch 6/50\n",
            "29/29 [==============================] - 0s 3ms/step - loss: 0.9637 - accuracy: 0.6950\n",
            "Epoch 7/50\n",
            "29/29 [==============================] - 0s 3ms/step - loss: 0.9115 - accuracy: 0.7021\n",
            "Epoch 8/50\n",
            "29/29 [==============================] - 0s 3ms/step - loss: 0.8578 - accuracy: 0.7518\n",
            "Epoch 9/50\n",
            "29/29 [==============================] - 0s 4ms/step - loss: 0.7737 - accuracy: 0.7943\n",
            "Epoch 10/50\n",
            "29/29 [==============================] - 0s 3ms/step - loss: 0.4786 - accuracy: 0.8794\n",
            "Epoch 11/50\n",
            "29/29 [==============================] - 0s 3ms/step - loss: 0.5675 - accuracy: 0.8156\n",
            "Epoch 12/50\n",
            "29/29 [==============================] - 0s 3ms/step - loss: 0.6414 - accuracy: 0.7872\n",
            "Epoch 13/50\n",
            "29/29 [==============================] - 0s 3ms/step - loss: 0.5710 - accuracy: 0.8085\n",
            "Epoch 14/50\n",
            "29/29 [==============================] - 0s 3ms/step - loss: 0.6201 - accuracy: 0.8014\n",
            "Epoch 15/50\n",
            "29/29 [==============================] - 0s 3ms/step - loss: 0.5322 - accuracy: 0.8582\n",
            "Epoch 16/50\n",
            "29/29 [==============================] - 0s 3ms/step - loss: 0.6296 - accuracy: 0.8227\n",
            "Epoch 17/50\n",
            "29/29 [==============================] - 0s 3ms/step - loss: 0.5559 - accuracy: 0.8085\n",
            "Epoch 18/50\n",
            "29/29 [==============================] - 0s 3ms/step - loss: 0.5386 - accuracy: 0.8156\n",
            "Epoch 19/50\n",
            "29/29 [==============================] - 0s 3ms/step - loss: 0.6870 - accuracy: 0.8085\n",
            "Epoch 20/50\n",
            "29/29 [==============================] - 0s 4ms/step - loss: 0.6529 - accuracy: 0.8085\n",
            "Epoch 21/50\n",
            "29/29 [==============================] - 0s 3ms/step - loss: 0.5726 - accuracy: 0.8794\n",
            "Epoch 22/50\n",
            "29/29 [==============================] - 0s 3ms/step - loss: 0.4817 - accuracy: 0.8440\n",
            "Epoch 23/50\n",
            "29/29 [==============================] - 0s 3ms/step - loss: 0.6124 - accuracy: 0.8369\n",
            "Epoch 24/50\n",
            "29/29 [==============================] - 0s 3ms/step - loss: 0.4550 - accuracy: 0.8723\n",
            "Epoch 25/50\n",
            "29/29 [==============================] - 0s 3ms/step - loss: 0.4555 - accuracy: 0.8723\n",
            "Epoch 26/50\n",
            "29/29 [==============================] - 0s 3ms/step - loss: 0.3079 - accuracy: 0.9007\n",
            "Epoch 27/50\n",
            "29/29 [==============================] - 0s 3ms/step - loss: 0.3544 - accuracy: 0.8865\n",
            "Epoch 28/50\n",
            "29/29 [==============================] - 0s 3ms/step - loss: 0.3694 - accuracy: 0.8936\n",
            "Epoch 29/50\n",
            "29/29 [==============================] - 0s 3ms/step - loss: 0.3893 - accuracy: 0.8865\n",
            "Epoch 30/50\n",
            "29/29 [==============================] - 0s 3ms/step - loss: 0.2690 - accuracy: 0.9220\n",
            "Epoch 31/50\n",
            "29/29 [==============================] - 0s 3ms/step - loss: 0.4293 - accuracy: 0.8865\n",
            "Epoch 32/50\n",
            "29/29 [==============================] - 0s 3ms/step - loss: 0.4554 - accuracy: 0.8723\n",
            "Epoch 33/50\n",
            "29/29 [==============================] - 0s 3ms/step - loss: 0.1884 - accuracy: 0.9291\n",
            "Epoch 34/50\n",
            "29/29 [==============================] - 0s 2ms/step - loss: 0.3261 - accuracy: 0.9078\n",
            "Epoch 35/50\n",
            "29/29 [==============================] - 0s 2ms/step - loss: 0.3529 - accuracy: 0.8936\n",
            "Epoch 36/50\n",
            "29/29 [==============================] - 0s 2ms/step - loss: 0.4363 - accuracy: 0.9149\n",
            "Epoch 37/50\n",
            "29/29 [==============================] - 0s 2ms/step - loss: 0.2655 - accuracy: 0.9078\n",
            "Epoch 38/50\n",
            "29/29 [==============================] - 0s 3ms/step - loss: 0.2192 - accuracy: 0.9220\n",
            "Epoch 39/50\n",
            "29/29 [==============================] - 0s 2ms/step - loss: 0.2509 - accuracy: 0.8865\n",
            "Epoch 40/50\n",
            "29/29 [==============================] - 0s 2ms/step - loss: 0.4848 - accuracy: 0.8865\n",
            "Epoch 41/50\n",
            "29/29 [==============================] - 0s 3ms/step - loss: 0.3198 - accuracy: 0.8865\n",
            "Epoch 42/50\n",
            "29/29 [==============================] - 0s 2ms/step - loss: 0.3804 - accuracy: 0.9007\n",
            "Epoch 43/50\n",
            "29/29 [==============================] - 0s 3ms/step - loss: 0.3057 - accuracy: 0.9078\n",
            "Epoch 44/50\n",
            "29/29 [==============================] - 0s 3ms/step - loss: 0.5191 - accuracy: 0.8582\n",
            "Epoch 45/50\n",
            "29/29 [==============================] - 0s 3ms/step - loss: 0.2820 - accuracy: 0.9007\n",
            "Epoch 46/50\n",
            "29/29 [==============================] - 0s 3ms/step - loss: 0.4984 - accuracy: 0.8652\n",
            "Epoch 47/50\n",
            "29/29 [==============================] - 0s 3ms/step - loss: 0.9732 - accuracy: 0.8440\n",
            "Epoch 48/50\n",
            "29/29 [==============================] - 0s 2ms/step - loss: 0.6175 - accuracy: 0.8298\n",
            "Epoch 49/50\n",
            "29/29 [==============================] - 0s 2ms/step - loss: 0.4542 - accuracy: 0.8865\n",
            "Epoch 50/50\n",
            "29/29 [==============================] - 0s 3ms/step - loss: 0.2733 - accuracy: 0.9007\n",
            "Message: What is the hackathon?\n",
            "Industry Hackathon features problem statements across various domains in Artificial Intelligence (AI), Machine Learning (ML), and Data Science, encouraging participants to dive into real-world challenges and develop cutting-edge solutions.\n",
            "Message: bye\n",
            "Bye! Come back again soon.\n"
          ]
        },
        {
          "output_type": "error",
          "ename": "KeyboardInterrupt",
          "evalue": "Interrupted by user",
          "traceback": [
            "\u001b[0;31m---------------------------------------------------------------------------\u001b[0m",
            "\u001b[0;31mKeyboardInterrupt\u001b[0m                         Traceback (most recent call last)",
            "\u001b[0;32m<ipython-input-2-08e66d3831b6>\u001b[0m in \u001b[0;36m<cell line: 37>\u001b[0;34m()\u001b[0m\n\u001b[1;32m     36\u001b[0m \u001b[0massistant\u001b[0m\u001b[0;34m.\u001b[0m\u001b[0msave_model\u001b[0m\u001b[0;34m(\u001b[0m\u001b[0;34m)\u001b[0m\u001b[0;34m\u001b[0m\u001b[0;34m\u001b[0m\u001b[0m\n\u001b[1;32m     37\u001b[0m \u001b[0;32mwhile\u001b[0m \u001b[0;32mTrue\u001b[0m\u001b[0;34m:\u001b[0m\u001b[0;34m\u001b[0m\u001b[0;34m\u001b[0m\u001b[0m\n\u001b[0;32m---> 38\u001b[0;31m   \u001b[0mmessage\u001b[0m\u001b[0;34m=\u001b[0m\u001b[0minput\u001b[0m\u001b[0;34m(\u001b[0m\u001b[0;34m\"Message: \"\u001b[0m\u001b[0;34m)\u001b[0m\u001b[0;34m\u001b[0m\u001b[0;34m\u001b[0m\u001b[0m\n\u001b[0m\u001b[1;32m     39\u001b[0m   \u001b[0mprint\u001b[0m\u001b[0;34m(\u001b[0m\u001b[0massistant\u001b[0m\u001b[0;34m.\u001b[0m\u001b[0mprocess_input\u001b[0m\u001b[0;34m(\u001b[0m\u001b[0mmessage\u001b[0m\u001b[0;34m)\u001b[0m\u001b[0;34m)\u001b[0m\u001b[0;34m\u001b[0m\u001b[0;34m\u001b[0m\u001b[0m\n",
            "\u001b[0;32m/usr/local/lib/python3.10/dist-packages/ipykernel/kernelbase.py\u001b[0m in \u001b[0;36mraw_input\u001b[0;34m(self, prompt)\u001b[0m\n\u001b[1;32m    849\u001b[0m                 \u001b[0;34m\"raw_input was called, but this frontend does not support input requests.\"\u001b[0m\u001b[0;34m\u001b[0m\u001b[0;34m\u001b[0m\u001b[0m\n\u001b[1;32m    850\u001b[0m             )\n\u001b[0;32m--> 851\u001b[0;31m         return self._input_request(str(prompt),\n\u001b[0m\u001b[1;32m    852\u001b[0m             \u001b[0mself\u001b[0m\u001b[0;34m.\u001b[0m\u001b[0m_parent_ident\u001b[0m\u001b[0;34m,\u001b[0m\u001b[0;34m\u001b[0m\u001b[0;34m\u001b[0m\u001b[0m\n\u001b[1;32m    853\u001b[0m             \u001b[0mself\u001b[0m\u001b[0;34m.\u001b[0m\u001b[0m_parent_header\u001b[0m\u001b[0;34m,\u001b[0m\u001b[0;34m\u001b[0m\u001b[0;34m\u001b[0m\u001b[0m\n",
            "\u001b[0;32m/usr/local/lib/python3.10/dist-packages/ipykernel/kernelbase.py\u001b[0m in \u001b[0;36m_input_request\u001b[0;34m(self, prompt, ident, parent, password)\u001b[0m\n\u001b[1;32m    893\u001b[0m             \u001b[0;32mexcept\u001b[0m \u001b[0mKeyboardInterrupt\u001b[0m\u001b[0;34m:\u001b[0m\u001b[0;34m\u001b[0m\u001b[0;34m\u001b[0m\u001b[0m\n\u001b[1;32m    894\u001b[0m                 \u001b[0;31m# re-raise KeyboardInterrupt, to truncate traceback\u001b[0m\u001b[0;34m\u001b[0m\u001b[0;34m\u001b[0m\u001b[0m\n\u001b[0;32m--> 895\u001b[0;31m                 \u001b[0;32mraise\u001b[0m \u001b[0mKeyboardInterrupt\u001b[0m\u001b[0;34m(\u001b[0m\u001b[0;34m\"Interrupted by user\"\u001b[0m\u001b[0;34m)\u001b[0m \u001b[0;32mfrom\u001b[0m \u001b[0;32mNone\u001b[0m\u001b[0;34m\u001b[0m\u001b[0;34m\u001b[0m\u001b[0m\n\u001b[0m\u001b[1;32m    896\u001b[0m             \u001b[0;32mexcept\u001b[0m \u001b[0mException\u001b[0m \u001b[0;32mas\u001b[0m \u001b[0me\u001b[0m\u001b[0;34m:\u001b[0m\u001b[0;34m\u001b[0m\u001b[0;34m\u001b[0m\u001b[0m\n\u001b[1;32m    897\u001b[0m                 \u001b[0mself\u001b[0m\u001b[0;34m.\u001b[0m\u001b[0mlog\u001b[0m\u001b[0;34m.\u001b[0m\u001b[0mwarning\u001b[0m\u001b[0;34m(\u001b[0m\u001b[0;34m\"Invalid Message:\"\u001b[0m\u001b[0;34m,\u001b[0m \u001b[0mexc_info\u001b[0m\u001b[0;34m=\u001b[0m\u001b[0;32mTrue\u001b[0m\u001b[0;34m)\u001b[0m\u001b[0;34m\u001b[0m\u001b[0;34m\u001b[0m\u001b[0m\n",
            "\u001b[0;31mKeyboardInterrupt\u001b[0m: Interrupted by user"
          ]
        }
      ],
      "source": [
        "from neuralintents import GenericAssistant\n",
        "import pandas_datareader as web\n",
        "import sys\n",
        "\n",
        "tichers=['AAPL','FB','GS','TSLA']\n",
        "todos=['wash car','Watch CNN Turorials','Go shopping']\n",
        "\n",
        "def stock_function():\n",
        "  for ticker in tichers:\n",
        "    data= web.DataReader(ticker,'yahoo')\n",
        "    print(f\"The last price of {ticker} was {data['Close'].iloc[-1]}\")\n",
        "\n",
        "def todo_show():\n",
        "  print(\"Your TODO list:\")\n",
        "  for todo in todos:\n",
        "    print(todo)\n",
        "def todo_add():\n",
        "  todo=input(\"What TODO do you want to add: \")\n",
        "  todos.append(todo)\n",
        "def todo_remove():\n",
        "  idx=int(input(\"Which TODO to remove (number): \")) - 1\n",
        "  if idx<len(todos):\n",
        "    print(f\"Removing {todos[idx]}\")\n",
        "    todos.pop(idx)\n",
        "  else:\n",
        "    print(\"There is no TODO at this position\")\n",
        "def bye():\n",
        "  print(\"Bye\")\n",
        "  sys.exit(0)\n",
        "mappings={'stocks': stock_function,\n",
        "          'todoshow': todo_show,\n",
        "          'todoremove': todo_remove,\n",
        "          'goodbye':bye}\n",
        "assistant= GenericAssistant(\"Intent.json\", mappings)\n",
        "assistant.fit_model(epochs=50)\n",
        "assistant.save_model()\n",
        "while True:\n",
        "  message=input(\"Message: \")\n",
        "  print(assistant.process_input(message))"
      ]
    }
  ]
}